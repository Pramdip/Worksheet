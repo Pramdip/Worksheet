{
  "nbformat": 4,
  "nbformat_minor": 0,
  "metadata": {
    "colab": {
      "provenance": []
    },
    "kernelspec": {
      "name": "python3",
      "display_name": "Python 3"
    },
    "language_info": {
      "name": "python"
    }
  },
  "cells": [
    {
      "cell_type": "markdown",
      "source": [
        "TO - DO - Task\n",
        "Please complete all the problem listed below.\n",
        "4.1 Exercise on Functions:\n",
        "Task - 1:\n",
        "Create a Python program that converts between different units of measurement.\n",
        "• The program should:\n",
        "1. Prompt the user to choose the type of conversion (e.g., length, weight, volume).\n",
        "2. Ask the user to input the value to be converted.\n",
        "3. Perform the conversion and display the result.\n",
        "4. Handle potential errors, such as invalid input or unsupported conversion types.\n",
        "• Requirements:\n",
        "1. Functions: Define at least one function to perform the conversion.\n",
        "2. Error Handling: Use try-except blocks to handle invalid input (e.g., non-numeric values).\n",
        "3. User Input: Prompt the user to select the conversion type and input the value.\n",
        "4. Docstrings: Include a docstring in your function to describe its purpose, parameters, and\n",
        "return value.\n",
        "• Conversion Options:\n",
        "1. Length:\n",
        "– Convert meters (m) to feet (ft).\n",
        "– Convert feet (ft) to meters (m).\n",
        "2. Weight:\n",
        "– Convert kilograms (kg) to pounds (lbs).\n",
        "– Convert pounds (lbs) to kilograms (kg).\n",
        "3. Volume:\n",
        "– Convert liters (L) to gallons (gal).\n",
        "– Convert gallons (gal) to liters (L)."
      ],
      "metadata": {
        "id": "4Frj7_2VI4TW"
      }
    },
    {
      "cell_type": "code",
      "source": [
        "#2330784\n",
        "#Pramdip Shrestha\n",
        "# unit measurement\n",
        "def convert_length(value, conversion_type):\n",
        "    \"\"\"So to convert between meters and feet based on the conversion type.\"\"\"\n",
        "    if conversion_type == \"m_to_ft\":\n",
        "        return value * 3.28084\n",
        "    elif conversion_type == \"ft_to_m\":\n",
        "        return value / 3.28084\n",
        "    else:\n",
        "        raise ValueError(\"Unsupported length conversion type\")\n",
        "\n",
        "def convert_weight(value, conversion_type):\n",
        "    \"\"\"So to convert between kilograms and pounds based on the conversion type.\"\"\"\n",
        "    if conversion_type == \"kg_to_lbs\":\n",
        "        return value * 2.20462  # kilograms to pounds\n",
        "    elif conversion_type == \"lbs_to_kg\":\n",
        "        return value / 2.20462  # pounds to kilograms\n",
        "    else:\n",
        "        raise ValueError(\"Unsupported weight conversion type\")\n",
        "\n",
        "def convert_volume(value, conversion_type):\n",
        "    \"\"\"So to convert between liters and gallons based on the conversion type.\"\"\"\n",
        "    if conversion_type == \"L_to_gal\":\n",
        "        return value * 0.264172  # liters to gallons\n",
        "    elif conversion_type == \"gal_to_L\":\n",
        "        return value / 0.264172  # gallons to liters\n",
        "    else:\n",
        "        raise ValueError(\"Unsupported volume conversion type\")\n",
        "\n",
        "def main():\n",
        "    \"\"\"Main function that handles user input and performs the selected conversion.\"\"\"\n",
        "    print(\"Welcome to the Unit Converter!\")\n",
        "\n",
        "    # Prompt user to choose the type of conversion\n",
        "    print(\"Choose the type of conversion:\")\n",
        "    print(\"1. Length (m/ft)\")\n",
        "    print(\"2. Weight (kg/lbs)\")\n",
        "    print(\"3. Volume (L/gal)\")\n",
        "\n",
        "    try:\n",
        "        conversion_type = int(input(\"Enter the number for the type of conversion (1/2/3): \"))\n",
        "        if conversion_type not in [1, 2, 3]:\n",
        "            raise ValueError(\"Invalid choice. Please enter 1, 2, or 3.\")\n",
        "\n",
        "        # To prompt user for the value to convert\n",
        "        value = float(input(\"Enter the value to be converted: \"))\n",
        "\n",
        "        #To Perform the selected conversion\n",
        "        if conversion_type == 1:\n",
        "            print(\"Choose the conversion type:\")\n",
        "            print(\"1. Meters to Feet\")\n",
        "            print(\"2. Feet to Meters\")\n",
        "            sub_choice = int(input(\"Enter 1 or 2: \"))\n",
        "            if sub_choice == 1:\n",
        "                result = convert_length(value, \"m_to_ft\")\n",
        "                print(f\"{value} meters is equal to {result:.2f} feet.\")\n",
        "            elif sub_choice == 2:\n",
        "                result = convert_length(value, \"ft_to_m\")\n",
        "                print(f\"{value} feet is equal to {result:.2f} meters.\")\n",
        "            else:\n",
        "                print(\"Invalid choice.\")\n",
        "\n",
        "        elif conversion_type == 2:\n",
        "            print(\"Choose the conversion type:\")\n",
        "            print(\"1. Kilograms to Pounds\")\n",
        "            print(\"2. Pounds to Kilograms\")\n",
        "            sub_choice = int(input(\"Enter 1 or 2: \"))\n",
        "            if sub_choice == 1:\n",
        "                result = convert_weight(value, \"kg_to_lbs\")\n",
        "                print(f\"{value} kilograms is equal to {result:.2f} pounds.\")\n",
        "            elif sub_choice == 2:\n",
        "                result = convert_weight(value, \"lbs_to_kg\")\n",
        "                print(f\"{value} pounds is equal to {result:.2f} kilograms.\")\n",
        "            else:\n",
        "                print(\"Invalid choice.\")\n",
        "\n",
        "        elif conversion_type == 3:\n",
        "            print(\"Choose the conversion type:\")\n",
        "            print(\"1. Liters to Gallons\")\n",
        "            print(\"2. Gallons to Liters\")\n",
        "            sub_choice = int(input(\"Enter 1 or 2: \"))\n",
        "            if sub_choice == 1:\n",
        "                result = convert_volume(value, \"L_to_gal\")\n",
        "                print(f\"{value} liters is equal to {result:.2f} gallons.\")\n",
        "            elif sub_choice == 2:\n",
        "                result = convert_volume(value, \"gal_to_L\")\n",
        "                print(f\"{value} gallons is equal to {result:.2f} liters.\")\n",
        "            else:\n",
        "                print(\"Invalid choice.\")\n",
        "\n",
        "    except ValueError as e:\n",
        "        print(f\"Error: {e}\")\n",
        "    except Exception as e:\n",
        "        print(f\"An unexpected error occurred: {e}\")\n",
        "\n",
        "if __name__ == \"__main__\":\n",
        "    main()\n"
      ],
      "metadata": {
        "colab": {
          "base_uri": "https://localhost:8080/"
        },
        "id": "kEesW0JTLHtM",
        "outputId": "c14dc355-d195-4834-9ce6-623c8c28c584"
      },
      "execution_count": 24,
      "outputs": [
        {
          "output_type": "stream",
          "name": "stdout",
          "text": [
            "Welcome to the Unit Converter!\n",
            "Choose the type of conversion:\n",
            "1. Length (m/ft)\n",
            "2. Weight (kg/lbs)\n",
            "3. Volume (L/gal)\n",
            "Enter the number for the type of conversion (1/2/3): 2\n",
            "Enter the value to be converted: 3\n",
            "Choose the conversion type:\n",
            "1. Kilograms to Pounds\n",
            "2. Pounds to Kilograms\n",
            "Enter 1 or 2: 2\n",
            "3.0 pounds is equal to 1.36 kilograms.\n"
          ]
        }
      ]
    },
    {
      "cell_type": "markdown",
      "source": [
        "Create a Python program that performs various mathematical operations on a list of numbers.\n",
        "• The Program should:\n",
        "1. Prompt the user to choose an operation (e.g., find the sum, average, maximum, or minimum\n",
        "of the numbers).\n",
        "2. Ask the user to input a list of numbers (separated by spaces).\n",
        "\n",
        "18\n",
        "\n",
        "6CS012 Worksheet - 0 Siman Giri\n",
        "\n",
        "3. Perform the selected operation and display the result.\n",
        "4. Handle potential errors, such as invalid input or empty lists.\n",
        "• Requirements:\n",
        "\n",
        "1. Functions: Define at least one function for each operation (sum, average, maximum, mini-\n",
        "mum).\n",
        "\n",
        "2. Error Handling: Use try-except blocks to handle invalid input (e.g., non-numeric values or\n",
        "empty lists).\n",
        "3. User Input: Prompt the user to select the operation and input the list of numbers.\n",
        "4. Docstrings: Include a docstring in each function to describe its purpose, parameters, and\n",
        "return value."
      ],
      "metadata": {
        "id": "UxrAXvF_Lgg-"
      }
    },
    {
      "cell_type": "code",
      "source": [
        "#2330784\n",
        "#Pramdip Shrestha\n",
        "\n",
        "def calculate_sum(numbers):\n",
        "    \"\"\"So it returns the sum of the numbers in the list.\"\"\"\n",
        "    return sum(numbers)\n",
        "\n",
        "def calculate_average(numbers):\n",
        "    \"\"\"So it returns the average of the numbers in the list.\"\"\"\n",
        "    return sum(numbers) / len(numbers)\n",
        "\n",
        "def find_maximum(numbers):\n",
        "    \"\"\"Returns the maximum value from the list of numbers.\"\"\"\n",
        "    return max(numbers)\n",
        "\n",
        "def find_minimum(numbers):\n",
        "    \"\"\"Returns the minimum value from the list of numbers.\"\"\"\n",
        "    return min(numbers)\n",
        "\n",
        "def main():\n",
        "    \"\"\"Main function to handle user input and perform selected mathematical operations.\"\"\"\n",
        "    print(\"Welcome to the Mathematical Operations Program!\")\n",
        "\n",
        "    try:\n",
        "        #To prompt the user to input a list of numbers\n",
        "        numbers_input = input(\"Enter a list of numbers separated by spaces: \")\n",
        "        numbers = [float(num) for num in numbers_input.split()]\n",
        "\n",
        "        # To ensure the list is not empty\n",
        "        if not numbers:\n",
        "            raise ValueError(\"The list of numbers cannot be empty.\")\n",
        "\n",
        "        # To prompt the user to choose an operation\n",
        "        print(\"\\nChoose an operation:\")\n",
        "        print(\"1. Find the sum of the numbers\")\n",
        "        print(\"2. Find the average of the numbers\")\n",
        "        print(\"3. Find the maximum number\")\n",
        "        print(\"4. Find the minimum number\")\n",
        "\n",
        "        operation_choice = int(input(\"Enter the number for the operation (1/2/3/4): \"))\n",
        "\n",
        "        if operation_choice == 1:\n",
        "            result = calculate_sum(numbers)\n",
        "            print(f\"The sum of the numbers is: {result}\")\n",
        "        elif operation_choice == 2:\n",
        "            result = calculate_average(numbers)\n",
        "            print(f\"The average of the numbers is: {result}\")\n",
        "        elif operation_choice == 3:\n",
        "            result = find_maximum(numbers)\n",
        "            print(f\"The maximum number is: {result}\")\n",
        "        elif operation_choice == 4:\n",
        "            result = find_minimum(numbers)\n",
        "            print(f\"The minimum number is: {result}\")\n",
        "        else:\n",
        "            print(\"Invalid choice. Please choose a valid operation.\")\n",
        "\n",
        "    except ValueError as e:\n",
        "        print(f\"Error: {e}\")\n",
        "    except Exception as e:\n",
        "        print(f\"An unexpected error occurred: {e}\")\n",
        "\n",
        "if __name__ == \"__main__\":\n",
        "    main()\n"
      ],
      "metadata": {
        "colab": {
          "base_uri": "https://localhost:8080/"
        },
        "id": "UZCLBUTSMPGK",
        "outputId": "91b51072-ce3f-4e8d-b5cb-134f765d528c"
      },
      "execution_count": 25,
      "outputs": [
        {
          "output_type": "stream",
          "name": "stdout",
          "text": [
            "Welcome to the Mathematical Operations Program!\n",
            "Enter a list of numbers separated by spaces: 5\n",
            "\n",
            "Choose an operation:\n",
            "1. Find the sum of the numbers\n",
            "2. Find the average of the numbers\n",
            "3. Find the maximum number\n",
            "4. Find the minimum number\n",
            "Enter the number for the operation (1/2/3/4): 3\n",
            "The maximum number is: 5.0\n"
          ]
        }
      ]
    },
    {
      "cell_type": "markdown",
      "source": [
        "4.2 Exercise on List Manipulation:\n",
        "1. Extract Every Other Element:\n",
        "Write a Python function that extracts every other element from a list, starting from the first element.\n",
        "• Requirements:\n",
        "– Define a function extract every other(lst) that takes a list lst as input and returns a\n",
        "new list containing every other element from the original list.\n",
        "– Example: For the input [1, 2, 3, 4, 5, 6], the output should be [1, 3, 5]."
      ],
      "metadata": {
        "id": "3QZWM4EtMYKz"
      }
    },
    {
      "cell_type": "code",
      "source": [
        "#2330784\n",
        "#Pramdip Shrestha\n",
        "def extract_every_other(lst):\n",
        "    \"\"\"Returns a new list containing every other element from the original list.\"\"\"\n",
        "    return lst[::2]\n",
        "\n",
        "\n",
        "input_list = [1, 2, 3, 4, 5, 6]\n",
        "output_list = extract_every_other(input_list)\n",
        "print(\"Extracted every other element:\", output_list)\n"
      ],
      "metadata": {
        "colab": {
          "base_uri": "https://localhost:8080/"
        },
        "id": "9OEdjc7qM2gm",
        "outputId": "4595076f-71c2-4035-cede-c0259e3da0a8"
      },
      "execution_count": 28,
      "outputs": [
        {
          "output_type": "stream",
          "name": "stdout",
          "text": [
            "Extracted every other element: [1, 3, 5]\n"
          ]
        }
      ]
    },
    {
      "cell_type": "markdown",
      "source": [],
      "metadata": {
        "id": "-S8b63OlPjjv"
      }
    },
    {
      "cell_type": "markdown",
      "source": [
        "2. Slice a Sublist:\n",
        "Write a Python function that returns a sublist from a given list, starting from a specified index and\n",
        "ending at another specified index.\n",
        "• Requirements:\n",
        "– Define a function get sublist(lst, start, end) that takes a list lst, a starting index\n",
        "start, and an ending index end as input and returns the sublist from start to end (inclusive).\n",
        "– Example: For the input [1, 2, 3, 4, 5, 6] with start=2 and end=4, the output should\n",
        "be [3, 4, 5]."
      ],
      "metadata": {
        "id": "fQ-dtLoeM-nv"
      }
    },
    {
      "cell_type": "code",
      "source": [
        "#2330784\n",
        "#Pramdip Shrestha\n",
        "def get_sublist(lst, start, end):\n",
        "    \"\"\"Returns a sublist from the list starting at index 'start' and ending at index 'end' (inclusive).\"\"\"\n",
        "    return lst[start:end+1]\n",
        "\n",
        "\n",
        "input_list = [1, 2, 3, 4, 5, 6]\n",
        "start_index = 2\n",
        "end_index = 4\n",
        "output_sublist = get_sublist(input_list, start_index, end_index)\n",
        "print(\"Sublist:\", output_sublist)\n"
      ],
      "metadata": {
        "colab": {
          "base_uri": "https://localhost:8080/"
        },
        "id": "wzrnpJjrM__Y",
        "outputId": "f4676f6a-069d-4eaa-ae2a-05c4bfd82a04"
      },
      "execution_count": 27,
      "outputs": [
        {
          "output_type": "stream",
          "name": "stdout",
          "text": [
            "Sublist: [3, 4, 5]\n"
          ]
        }
      ]
    },
    {
      "cell_type": "markdown",
      "source": [
        "3. Reverse a List Using Slicing:\n",
        "Write a Python function that reverses a list using slicing.\n",
        "• Requirements:\n",
        "– Define a function reverse list(lst) that takes a list lst and returns a reversed list using\n",
        "slicing.\n",
        "– Example: For the input [1, 2, 3, 4, 5], the output should be [5, 4, 3, 2, 1]."
      ],
      "metadata": {
        "id": "_U5OJ4LSNH5n"
      }
    },
    {
      "cell_type": "code",
      "source": [
        "#2330784\n",
        "#Pramdip Shrestha\n",
        "def reverse_list(lst):\n",
        "    \"\"\"Returns a reversed version of the list using slicing.\"\"\"\n",
        "    return lst[::-1]\n",
        "\n",
        "\n",
        "input_list = [1, 2, 3, 4, 5]\n",
        "reversed_list = reverse_list(input_list)\n",
        "print(\"Reversed list:\", reversed_list)\n"
      ],
      "metadata": {
        "colab": {
          "base_uri": "https://localhost:8080/"
        },
        "id": "Wpji5nO_NPUo",
        "outputId": "dca6d049-8354-4d34-fe03-99a4361e601f"
      },
      "execution_count": 29,
      "outputs": [
        {
          "output_type": "stream",
          "name": "stdout",
          "text": [
            "Reversed list: [5, 4, 3, 2, 1]\n"
          ]
        }
      ]
    },
    {
      "cell_type": "markdown",
      "source": [
        "4. Remove the First and Last Elements:\n",
        "Write a Python function that removes the first and last elements of a list and returns the resulting\n",
        "sublist.\n",
        "• Requirements:\n",
        "– Define a function remove first last(lst) that takes a list lst and returns a sublist without\n",
        "the first and last elements using slicing.\n",
        "– Example: For the input [1, 2, 3, 4, 5], the output should be [2, 3, 4]."
      ],
      "metadata": {
        "id": "fUY2zmi3NYFa"
      }
    },
    {
      "cell_type": "code",
      "source": [
        "#2330784\n",
        "#Pramdip Shrestha\n",
        "def remove_first_last(lst):\n",
        "    \"\"\"Returns a sublist without the first and last elements using slicing.\"\"\"\n",
        "    return lst[1:-1]\n",
        "\n",
        "\n",
        "input_list = [1, 2, 3, 4, 5]\n",
        "resulting_sublist = remove_first_last(input_list)\n",
        "print(\"Sublist without the first and last elements:\", resulting_sublist)\n"
      ],
      "metadata": {
        "colab": {
          "base_uri": "https://localhost:8080/"
        },
        "id": "VSe0uZRONcPq",
        "outputId": "4c0f052b-dc84-42bd-e07e-6aa9417ee6e2"
      },
      "execution_count": 30,
      "outputs": [
        {
          "output_type": "stream",
          "name": "stdout",
          "text": [
            "Sublist without the first and last elements: [2, 3, 4]\n"
          ]
        }
      ]
    },
    {
      "cell_type": "markdown",
      "source": [
        "5. Get the First n Elements:\n",
        "Write a Python function that extracts the first n elements from a list.\n",
        "• Requirements:\n",
        "– Define a function get first n(lst, n) that takes a list lst and an integer n as input and\n",
        "returns the first n elements of the list using slicing.\n",
        "– Example: For the input [1, 2, 3, 4, 5] with n=3, the output should be [1, 2, 3]."
      ],
      "metadata": {
        "id": "MFaqFqVYNhXi"
      }
    },
    {
      "cell_type": "code",
      "source": [
        "#2330784\n",
        "#Pramdip Shrestha\n",
        "def get_first_n(lst, n):\n",
        "    \"\"\"Returns the first n elements of the list using slicing.\"\"\"\n",
        "    return lst[:n]\n",
        "\n",
        "\n",
        "input_list = [1, 2, 3, 4, 5]\n",
        "n = 3\n",
        "first_n_elements = get_first_n(input_list, n)\n",
        "print(\"First n elements:\", first_n_elements)\n"
      ],
      "metadata": {
        "colab": {
          "base_uri": "https://localhost:8080/"
        },
        "id": "ZoLqpnnbNn1r",
        "outputId": "6c5e3191-0092-4dce-9afb-41969e722b04"
      },
      "execution_count": 31,
      "outputs": [
        {
          "output_type": "stream",
          "name": "stdout",
          "text": [
            "First n elements: [1, 2, 3]\n"
          ]
        }
      ]
    },
    {
      "cell_type": "markdown",
      "source": [
        "6. Extract Elements from the End:\n",
        "Write a Python function that extracts the last n elements of a list using slicing.\n",
        "• Requirements:\n",
        "– Define a function get last n(lst, n) that takes a list lst and an integer n as input and\n",
        "returns the last n elements of the list.\n",
        "– Example: For the input [1, 2, 3, 4, 5] with n=2, the output should be [4, 5]."
      ],
      "metadata": {
        "id": "lKHylQW7NtXb"
      }
    },
    {
      "cell_type": "code",
      "source": [
        "#2330784\n",
        "#Pramdip Shrestha\n",
        "def get_last_n(lst, n):\n",
        "    \"\"\"So it returns the last n elements of the list using slicing.\"\"\"\n",
        "    return lst[-n:]\n",
        "\n",
        "\n",
        "input_list = [1, 2, 3, 4, 5]\n",
        "n = 2\n",
        "last_n_elements = get_last_n(input_list, n)\n",
        "print(\"Last n elements:\", last_n_elements)\n"
      ],
      "metadata": {
        "colab": {
          "base_uri": "https://localhost:8080/"
        },
        "id": "ytu0KCZUNwIE",
        "outputId": "7c00bf33-c5a6-48a6-f4ee-70f73b0ebba3"
      },
      "execution_count": 32,
      "outputs": [
        {
          "output_type": "stream",
          "name": "stdout",
          "text": [
            "Last n elements: [4, 5]\n"
          ]
        }
      ]
    },
    {
      "cell_type": "markdown",
      "source": [
        "7. Extract Elements in Reverse Order:\n",
        "Write a Python function that extracts a list of elements in reverse order starting from the second-to-last\n",
        "element and skipping one element in between.\n",
        "• Requirements:\n",
        "– Define a function reverse skip(lst) that takes a list lst and returns a new list containing\n",
        "every second element starting from the second-to-last, moving backward.\n",
        "– Example: For the input [1, 2, 3, 4, 5, 6], the output should be [5, 3, 1]."
      ],
      "metadata": {
        "id": "U3wPGbaWN3mM"
      }
    },
    {
      "cell_type": "code",
      "source": [
        "#2330784\n",
        "#Pramdip Shrestha\n",
        "def reverse_skip(lst):\n",
        "    \"\"\"Returns a new list containing every second element starting from the second-to-last, moving backward.\"\"\"\n",
        "    return lst[-2::-2]\n",
        "\n",
        "\n",
        "input_list = [1, 2, 3, 4, 5, 6]\n",
        "reversed_skipped_elements = reverse_skip(input_list)\n",
        "print(\"Reversed and skipped elements:\", reversed_skipped_elements)\n"
      ],
      "metadata": {
        "colab": {
          "base_uri": "https://localhost:8080/"
        },
        "id": "zfHW8D1zN67d",
        "outputId": "c00b62a8-a136-4e8e-a3e7-cb748cd5d93d"
      },
      "execution_count": 33,
      "outputs": [
        {
          "output_type": "stream",
          "name": "stdout",
          "text": [
            "Reversed and skipped elements: [5, 3, 1]\n"
          ]
        }
      ]
    },
    {
      "cell_type": "markdown",
      "source": [
        "4.3 Exercise on Nested List:\n",
        "1. Flatten a Nested List:\n",
        "Write a Python function that takes a nested list and flattens it into a single list, where all the elements\n",
        "are in a single dimension.\n",
        "• Requirements:\n",
        "– Define a function flatten(lst) that takes a nested list lst and returns a flattened version\n",
        "of the list.\n",
        "– Example: For the input [[1, 2], [3, 4], [5]], the output should be [1, 2, 3, 4, 5]."
      ],
      "metadata": {
        "id": "S_bS_zwTOk9h"
      }
    },
    {
      "cell_type": "code",
      "source": [
        "#2330784\n",
        "#Pramdip Shrestha\n",
        "def flatten(lst):\n",
        "    flat_list = []\n",
        "    for sublist in lst:\n",
        "        if isinstance(sublist, list):\n",
        "            flat_list.extend(flatten(sublist))  # Recursively flatten sublists\n",
        "        else:\n",
        "            flat_list.append(sublist)\n",
        "    return flat_list\n",
        "\n",
        "\n",
        "nested_list = [[1, 2], [3, 4], [5]]\n",
        "flattened_list = flatten(nested_list)\n",
        "print(flattened_list)\n"
      ],
      "metadata": {
        "colab": {
          "base_uri": "https://localhost:8080/"
        },
        "id": "M59UjiMUOvBK",
        "outputId": "3a56d6ac-8355-4814-a544-d95abb229899"
      },
      "execution_count": 34,
      "outputs": [
        {
          "output_type": "stream",
          "name": "stdout",
          "text": [
            "[1, 2, 3, 4, 5]\n"
          ]
        }
      ]
    },
    {
      "cell_type": "markdown",
      "source": [
        "2. Accessing Nested List Elements:\n",
        "Write a Python function that extracts a specific element from a nested list given its indices.\n",
        "• Requirements:\n",
        "– Define a function access nested element(lst, indices) that takes a nested list lst and\n",
        "a list of indices indices, and returns the element at that position.\n",
        "– Example: For the input lst = [[1, 2, 3], [4, 5, 6], [7, 8, 9]] with indices = [1,\n",
        "2], the output should be 6."
      ],
      "metadata": {
        "id": "mWhOIhHMO1Ma"
      }
    },
    {
      "cell_type": "code",
      "source": [
        "#2330784\n",
        "#Pramdip Shrestha\n",
        "def access_nested_element(lst, indices):\n",
        "    element = lst  # Start with the full list\n",
        "    for index in indices:\n",
        "        element = element[index]  # Access the next level\n",
        "    return element\n",
        "\n",
        "\n",
        "lst = [[1, 2, 3], [4, 5, 6], [7, 8, 9]]\n",
        "indices = [1, 2]\n",
        "result = access_nested_element(lst, indices)\n",
        "print(result)\n"
      ],
      "metadata": {
        "colab": {
          "base_uri": "https://localhost:8080/"
        },
        "id": "9SHxi_O5O6oj",
        "outputId": "e3dee8f6-b590-4b04-e16a-396e27061bb8"
      },
      "execution_count": 35,
      "outputs": [
        {
          "output_type": "stream",
          "name": "stdout",
          "text": [
            "6\n"
          ]
        }
      ]
    },
    {
      "cell_type": "markdown",
      "source": [
        "3. Sum of All Elements in a Nested List:\n",
        "Write a Python function that calculates the sum of all the numbers in a nested list (regardless of depth).\n",
        "• Requirements:\n",
        "– Define a function sum nested(lst) that takes a nested list lst and returns the sum of all\n",
        "the elements.\n",
        "– Example: For the input [[1, 2], [3, [4, 5]], 6], the output should be 21."
      ],
      "metadata": {
        "id": "394luoOFO-87"
      }
    },
    {
      "cell_type": "code",
      "source": [
        "#2330784\n",
        "#Pramdip Shrestha\n",
        "def sum_nested(lst):\n",
        "    total = 0\n",
        "    for element in lst:\n",
        "        if isinstance(element, list):\n",
        "            total += sum_nested(element)  # Recursively sum sublists\n",
        "        else:\n",
        "            total += element  # To add numbers directly\n",
        "    return total\n",
        "\n",
        "\n",
        "nested_list = [[1, 2], [3, [4, 5]], 6]\n",
        "result = sum_nested(nested_list)\n",
        "print(result)\n"
      ],
      "metadata": {
        "colab": {
          "base_uri": "https://localhost:8080/"
        },
        "id": "9wl1V0drPEe8",
        "outputId": "57308603-1440-42cc-e728-6a83314146e5"
      },
      "execution_count": 36,
      "outputs": [
        {
          "output_type": "stream",
          "name": "stdout",
          "text": [
            "21\n"
          ]
        }
      ]
    },
    {
      "cell_type": "markdown",
      "source": [
        "4. Remove Specific Element from a Nested List:\n",
        "Write a Python function that removes all occurrences of a specific element from a nested list.\n",
        "• Requirements:\n",
        "– Define a function remove element(lst, elem) that removes elem from lst and returns the\n",
        "modified list.\n",
        "– Example: For the input lst = [[1, 2], [3, 2], [4, 5]] and elem = 2, the output should\n",
        "be [[1], [3], [4, 5]]."
      ],
      "metadata": {
        "id": "use7HBfOPldo"
      }
    },
    {
      "cell_type": "code",
      "source": [
        "#2330784\n",
        "#Pramdip Shrestha\n",
        "def remove_element(lst, elem):\n",
        "    result = []\n",
        "    for item in lst:\n",
        "        if isinstance(item, list):\n",
        "            new_sublist = remove_element(item, elem)\n",
        "            if new_sublist:\n",
        "                result.append(new_sublist)\n",
        "        elif item != elem:\n",
        "            result.append(item)\n",
        "    return result\n",
        "\n",
        "lst = [[1, 2], [3, 2], [4, 5]]\n",
        "elem = 2\n",
        "modified_list = remove_element(lst, elem)\n",
        "print(modified_list)\n"
      ],
      "metadata": {
        "colab": {
          "base_uri": "https://localhost:8080/"
        },
        "id": "w6spEncYPnZA",
        "outputId": "016ab858-34ed-42a1-a04e-25fc8f3074dd"
      },
      "execution_count": 37,
      "outputs": [
        {
          "output_type": "stream",
          "name": "stdout",
          "text": [
            "[[1], [3], [4, 5]]\n"
          ]
        }
      ]
    },
    {
      "cell_type": "markdown",
      "source": [
        "5. Find the Maximum Element in a Nested List:\n",
        "Write a Python function that finds the maximum element in a nested list (regardless of depth).\n",
        "• Requirements:\n",
        "– Define a function find max(lst) that takes a nested list lst and returns the maximum\n",
        "element.\n",
        "– Example: For the input [[1, 2], [3, [4, 5]], 6], the output should be 6."
      ],
      "metadata": {
        "id": "HdzkgmQEPrA3"
      }
    },
    {
      "cell_type": "code",
      "source": [
        "#2330784\n",
        "#Pramdip Shrestha\n",
        "def find_max(lst):\n",
        "    max_value = float('-inf')\n",
        "    for item in lst:\n",
        "        if isinstance(item, list):\n",
        "            max_value = max(max_value, find_max(item))\n",
        "        else:\n",
        "            max_value = max(max_value, item)\n",
        "    return max_value\n",
        "\n",
        "nested_list = [[1, 2], [3, [4, 5]], 6]\n",
        "result = find_max(nested_list)\n",
        "print(result)\n"
      ],
      "metadata": {
        "colab": {
          "base_uri": "https://localhost:8080/"
        },
        "id": "dqj5psqqPwXC",
        "outputId": "30a824da-3738-4df2-ac90-b7c1cf8c6923"
      },
      "execution_count": 38,
      "outputs": [
        {
          "output_type": "stream",
          "name": "stdout",
          "text": [
            "6\n"
          ]
        }
      ]
    },
    {
      "cell_type": "markdown",
      "source": [
        "6. Count Occurrences of an Element in a Nested List:\n",
        "Write a Python function that counts how many times a specific element appears in a nested list.\n",
        "• Requirements:\n",
        "– Define a function count occurrences(lst, elem) that counts the occurrences of elem in\n",
        "the nested list lst.\n",
        "– Example: For the input lst = [[1, 2], [2, 3], [2, 4]] and elem = 2, the output should\n",
        "be 3."
      ],
      "metadata": {
        "id": "bVx6ybV5P02p"
      }
    },
    {
      "cell_type": "code",
      "source": [
        "#2330784\n",
        "#Pramdip Shrestha\n",
        "def count_occurrences(lst, elem):\n",
        "    count = 0\n",
        "    for item in lst:\n",
        "        if isinstance(item, list):\n",
        "            count += count_occurrences(item, elem)\n",
        "        elif item == elem:\n",
        "            count += 1\n",
        "    return count\n",
        "\n",
        "lst = [[1, 2], [2, 3], [2, 4]]\n",
        "elem = 2\n",
        "result = count_occurrences(lst, elem)\n",
        "print(result)\n"
      ],
      "metadata": {
        "colab": {
          "base_uri": "https://localhost:8080/"
        },
        "id": "FLM1sXwsP4Wy",
        "outputId": "2ca94eed-f9bb-4841-ca82-135762b425ec"
      },
      "execution_count": 39,
      "outputs": [
        {
          "output_type": "stream",
          "name": "stdout",
          "text": [
            "3\n"
          ]
        }
      ]
    },
    {
      "cell_type": "markdown",
      "source": [
        "7. Flatten a List of Lists of Lists:\n",
        "Write a Python function that flattens a list of lists of lists into a single list, regardless of the depth.\n",
        "• Requirements:\n",
        "– Define a function deep flatten(lst) that takes a deeply nested list lst and returns a single\n",
        "flattened list.\n",
        "– Example: For the input [[[1, 2], [3, 4]], [[5, 6], [7, 8]]], the output should be\n",
        "[1, 2, 3, 4, 5, 6, 7, 8]."
      ],
      "metadata": {
        "id": "MSe6G10EP7Yp"
      }
    },
    {
      "cell_type": "code",
      "source": [
        "#2330784\n",
        "#Pramdip Shrestha\n",
        "def deep_flatten(lst):\n",
        "    flat_list = []\n",
        "    for item in lst:\n",
        "        if isinstance(item, list):\n",
        "            flat_list.extend(deep_flatten(item))\n",
        "        else:\n",
        "            flat_list.append(item)\n",
        "    return flat_list\n",
        "\n",
        "nested_list = [[[1, 2], [3, 4]], [[5, 6], [7, 8]]]\n",
        "result = deep_flatten(nested_list)\n",
        "print(result)\n"
      ],
      "metadata": {
        "colab": {
          "base_uri": "https://localhost:8080/"
        },
        "id": "JR3Ma_lYQJIT",
        "outputId": "ea96dd60-7da3-429c-f6e1-4334094b3dba"
      },
      "execution_count": 40,
      "outputs": [
        {
          "output_type": "stream",
          "name": "stdout",
          "text": [
            "[1, 2, 3, 4, 5, 6, 7, 8]\n"
          ]
        }
      ]
    },
    {
      "cell_type": "markdown",
      "source": [
        "8. Nested List Average:\n",
        "Write a Python function that calculates the average of all elements in a nested list.\n",
        "• Requirements:\n",
        "– Define a function average nested(lst) that takes a nested list lst and returns the average\n",
        "of all the elements.\n",
        "– Example: For the input [[1, 2], [3, 4], [5, 6]], the output should be 3.5."
      ],
      "metadata": {
        "id": "wj_C4Kl6QMg7"
      }
    },
    {
      "cell_type": "code",
      "source": [
        "#2330784\n",
        "#Pramdip Shrestha\n",
        "def average_nested(lst):\n",
        "    def helper(lst):\n",
        "        total, count = 0, 0\n",
        "        for item in lst:\n",
        "            if isinstance(item, list):\n",
        "                sub_total, sub_count = helper(item)\n",
        "                total += sub_total\n",
        "                count += sub_count\n",
        "            else:\n",
        "                total += item\n",
        "                count += 1\n",
        "        return total, count\n",
        "\n",
        "    total, count = helper(lst)\n",
        "    return total / count if count > 0 else 0\n",
        "\n",
        "nested_list = [[1, 2], [3, 4], [5, 6]]\n",
        "result = average_nested(nested_list)\n",
        "print(result)\n"
      ],
      "metadata": {
        "colab": {
          "base_uri": "https://localhost:8080/"
        },
        "id": "k8LgtHmFQ89Q",
        "outputId": "9c6bc698-4005-43fd-a916-afde92605d67"
      },
      "execution_count": 41,
      "outputs": [
        {
          "output_type": "stream",
          "name": "stdout",
          "text": [
            "3.5\n"
          ]
        }
      ]
    },
    {
      "cell_type": "markdown",
      "source": [
        "10 To - Do - NumPy\n",
        "Please complete all the problems listed below:\n",
        "10.1 Basic Vector and Matrix Operation with Numpy.\n",
        "Problem - 1: Array Creation:\n",
        "Complete the following Tasks:\n",
        "1. Initialize an empty array with size 2X2.\n",
        "2. Initialize an all one array with size 4X2.\n",
        "3. Return a new array of given shape and type, filled with fill value.{Hint: np.full}\n",
        "4. Return a new array of zeros with same shape and type as a given array.{Hint: np.zeros like}\n",
        "5. Return a new array of ones with same shape and type as a given array.{Hint: np.ones like}\n",
        "6. For an existing list new_list = [1,2,3,4] convert to an numpy array.{Hint: np.array()}"
      ],
      "metadata": {
        "id": "ehiVxh5mRR9B"
      }
    },
    {
      "cell_type": "code",
      "source": [
        "#2330784\n",
        "#Pramdip Shrestha\n",
        "import numpy as np\n",
        "\n",
        "# Task 1: To Initialize an empty array with size 2x2\n",
        "empty_array = np.empty((2, 2))\n",
        "\n",
        "# Task 2: To Initialize an all one array with size 4x2\n",
        "ones_array = np.ones((4, 2))\n",
        "\n",
        "# Task 3: To Return a new array of given shape and type, filled with fill value\n",
        "filled_array = np.full((3, 3), 7)  # Example shape (3, 3) and fill value 7\n",
        "\n",
        "# Task 4: To Return a new array of zeros with same shape and type as a given array\n",
        "existing_array = np.array([[1, 2], [3, 4]])\n",
        "zeros_like_array = np.zeros_like(existing_array)\n",
        "\n",
        "# Task 5: to Return a new array of ones with same shape and type as a given array\n",
        "ones_like_array = np.ones_like(existing_array)\n",
        "\n",
        "# Task 6: For an existing list new_list = [1, 2, 3, 4], convert to a numpy array\n",
        "new_list = [1, 2, 3, 4]\n",
        "numpy_array = np.array(new_list)\n",
        "\n",
        "empty_array, ones_array, filled_array, zeros_like_array, ones_like_array, numpy_array\n"
      ],
      "metadata": {
        "colab": {
          "base_uri": "https://localhost:8080/"
        },
        "id": "y1aOaH1PRSsC",
        "outputId": "5aa17fa8-a7b8-47f1-d163-e0653a99ff13"
      },
      "execution_count": 42,
      "outputs": [
        {
          "output_type": "execute_result",
          "data": {
            "text/plain": [
              "(array([[1.00000000e+00, 0.00000000e+00],\n",
              "        [1.77635684e-15, 1.00000000e+00]]),\n",
              " array([[1., 1.],\n",
              "        [1., 1.],\n",
              "        [1., 1.],\n",
              "        [1., 1.]]),\n",
              " array([[7, 7, 7],\n",
              "        [7, 7, 7],\n",
              "        [7, 7, 7]]),\n",
              " array([[0, 0],\n",
              "        [0, 0]]),\n",
              " array([[1, 1],\n",
              "        [1, 1]]),\n",
              " array([1, 2, 3, 4]))"
            ]
          },
          "metadata": {},
          "execution_count": 42
        }
      ]
    },
    {
      "cell_type": "markdown",
      "source": [
        "Problem - 2: Array Manipulation: Numerical Ranges and Array indexing:\n",
        "Complete the following tasks:\n",
        "1. Create an array with values ranging from 10 to 49. {Hint:np.arrange()}.\n",
        "2. Create a 3X3 matrix with values ranging from 0 to 8.\n",
        "{Hint:look for np.reshape()}\n",
        "3. Create a 3X3 identity matrix.{Hint:np.eye()}\n",
        "4. Create a random array of size 30 and find the mean of the array.\n",
        "{Hint:check for np.random.random() and array.mean() function}\n",
        "5. Create a 10X10 array with random values and find the minimum and maximum values.\n",
        "6. Create a zero array of size 10 and replace 5th element with 1.\n",
        "7. Reverse an array arr = [1,2,0,0,4,0].\n",
        "8. Create a 2d array with 1 on border and 0 inside.\n",
        "9. Create a 8X8 matrix and fill it with a checkerboard pattern."
      ],
      "metadata": {
        "id": "OcAU_zPXRX7a"
      }
    },
    {
      "cell_type": "code",
      "source": [
        "#2330784\n",
        "#Pramdip Shrestha\n",
        "# Task 1:To Create an array with values ranging from 10 to 49\n",
        "array_10_to_49 = np.arange(10, 50)\n",
        "\n",
        "# Task 2:To Create a 3x3 matrix with values ranging from 0 to 8\n",
        "matrix_3x3 = np.arange(9).reshape(3, 3)\n",
        "\n",
        "# Task 3:To Create a 3x3 identity matrix\n",
        "identity_matrix = np.eye(3)\n",
        "\n",
        "# Task 4:To Create a random array of size 30 and find the mean of the array\n",
        "random_array = np.random.random(30)\n",
        "mean_of_array = random_array.mean()\n",
        "\n",
        "# Task 5:To Create a 10x10 array with random values and find the minimum and maximum values\n",
        "random_10x10 = np.random.random((10, 10))\n",
        "min_value = random_10x10.min()\n",
        "max_value = random_10x10.max()\n",
        "\n",
        "# Task 6:To Create a zero array of size 10 and replace the 5th element with 1\n",
        "zero_array = np.zeros(10)\n",
        "zero_array[4] = 1  # Replace 5th element (index 4) with 1\n",
        "\n",
        "# Task 7:To Reverse an array arr = [1, 2, 0, 0, 4, 0]\n",
        "arr = np.array([1, 2, 0, 0, 4, 0])\n",
        "reversed_arr = arr[::-1]\n",
        "\n",
        "# Task 8:To Create a 2d array with 1 on border and 0 inside\n",
        "border_array = np.ones((5, 5))\n",
        "border_array[1:-1, 1:-1] = 0\n",
        "\n",
        "# Task 9:To Create an 8x8 matrix and fill it with a checkerboard pattern\n",
        "checkerboard = np.zeros((8, 8))\n",
        "checkerboard[1::2, ::2] = 1\n",
        "checkerboard[::2, 1::2] = 1\n",
        "\n",
        "array_10_to_49, matrix_3x3, identity_matrix, mean_of_array, min_value, max_value, zero_array, reversed_arr, border_array, checkerboard\n"
      ],
      "metadata": {
        "colab": {
          "base_uri": "https://localhost:8080/"
        },
        "id": "9VWLmGfjRe5j",
        "outputId": "52b2efaf-d9d3-43a6-cea7-48bc14857e7d"
      },
      "execution_count": 43,
      "outputs": [
        {
          "output_type": "execute_result",
          "data": {
            "text/plain": [
              "(array([10, 11, 12, 13, 14, 15, 16, 17, 18, 19, 20, 21, 22, 23, 24, 25, 26,\n",
              "        27, 28, 29, 30, 31, 32, 33, 34, 35, 36, 37, 38, 39, 40, 41, 42, 43,\n",
              "        44, 45, 46, 47, 48, 49]),\n",
              " array([[0, 1, 2],\n",
              "        [3, 4, 5],\n",
              "        [6, 7, 8]]),\n",
              " array([[1., 0., 0.],\n",
              "        [0., 1., 0.],\n",
              "        [0., 0., 1.]]),\n",
              " 0.4408455941506183,\n",
              " 0.007969330437126443,\n",
              " 0.9983248935851906,\n",
              " array([0., 0., 0., 0., 1., 0., 0., 0., 0., 0.]),\n",
              " array([0, 4, 0, 0, 2, 1]),\n",
              " array([[1., 1., 1., 1., 1.],\n",
              "        [1., 0., 0., 0., 1.],\n",
              "        [1., 0., 0., 0., 1.],\n",
              "        [1., 0., 0., 0., 1.],\n",
              "        [1., 1., 1., 1., 1.]]),\n",
              " array([[0., 1., 0., 1., 0., 1., 0., 1.],\n",
              "        [1., 0., 1., 0., 1., 0., 1., 0.],\n",
              "        [0., 1., 0., 1., 0., 1., 0., 1.],\n",
              "        [1., 0., 1., 0., 1., 0., 1., 0.],\n",
              "        [0., 1., 0., 1., 0., 1., 0., 1.],\n",
              "        [1., 0., 1., 0., 1., 0., 1., 0.],\n",
              "        [0., 1., 0., 1., 0., 1., 0., 1.],\n",
              "        [1., 0., 1., 0., 1., 0., 1., 0.]]))"
            ]
          },
          "metadata": {},
          "execution_count": 43
        }
      ]
    },
    {
      "cell_type": "markdown",
      "source": [
        "Problem - 3: Array Operations:\n",
        "For the following arrays:\n",
        "x = np.array([[1,2],[3,5]]) and y = np.array([[5,6],[7,8]]);\n",
        "v = np.array([9,10]) and w = np.array([11,12]);\n",
        "Complete all the task using numpy:\n",
        "1. Add the two array.\n",
        "2. Subtract the two array.\n",
        "3. Multiply the array with any integers of your choice.\n",
        "4. Find the square of each element of the array.\n",
        "5. Find the dot product between: v(and)w ; x(and)v ; x(and)y.\n",
        "6. Concatenate x(and)y along row and Concatenate v(and)w along column.\n",
        "{Hint:try np.concatenate() or np.vstack() functions.\n",
        "7. Concatenate x(and)v; if you get an error, observe and explain why did you get the error?"
      ],
      "metadata": {
        "id": "edNEiVnKRlsk"
      }
    },
    {
      "cell_type": "code",
      "source": [
        "#2330784\n",
        "#Pramdip Shrestha\n",
        "# Arrays as per the problem\n",
        "x = np.array([[1, 2], [3, 5]])\n",
        "y = np.array([[5, 6], [7, 8]])\n",
        "v = np.array([9, 10])\n",
        "w = np.array([11, 12])\n",
        "\n",
        "# Task 1: Add the two arrays\n",
        "array_sum = x + y\n",
        "\n",
        "# Task 2: Subtract the two arrays\n",
        "array_diff = x - y\n",
        "\n",
        "# Task 3: Multiply the array with an integer (e.g., multiply by 2)\n",
        "array_mult = x * 2\n",
        "\n",
        "# Task 4: Find the square of each element of the array\n",
        "array_square = np.square(x)\n",
        "\n",
        "# Task 5: Find the dot product between:\n",
        "dot_v_w = np.dot(v, w)\n",
        "dot_x_v = np.dot(x, v)\n",
        "dot_x_y = np.dot(x, y)\n",
        "\n",
        "# Task 6: Concatenate x and y along row and concatenate v and w along column\n",
        "concat_x_y_row = np.concatenate((x, y), axis=0)\n",
        "concat_v_w_column = np.concatenate((v.reshape(-1, 1), w.reshape(-1, 1)), axis=1)\n",
        "\n",
        "# Task 7: Concatenate x and v; error explanation\n",
        "try:\n",
        "    concat_x_v = np.concatenate((x, v), axis=1)\n",
        "except Exception as e:\n",
        "    concat_x_v_error = str(e)\n",
        "\n",
        "array_sum, array_diff, array_mult, array_square, dot_v_w, dot_x_v, dot_x_y, concat_x_y_row, concat_v_w_column, concat_x_v_error\n"
      ],
      "metadata": {
        "colab": {
          "base_uri": "https://localhost:8080/"
        },
        "id": "0d-h7EAeRqTt",
        "outputId": "ef021aa7-b08e-42f0-e878-c55dda17d012"
      },
      "execution_count": 22,
      "outputs": [
        {
          "output_type": "execute_result",
          "data": {
            "text/plain": [
              "(array([[ 6,  8],\n",
              "        [10, 13]]),\n",
              " array([[-4, -4],\n",
              "        [-4, -3]]),\n",
              " array([[ 2,  4],\n",
              "        [ 6, 10]]),\n",
              " array([[ 1,  4],\n",
              "        [ 9, 25]]),\n",
              " 219,\n",
              " array([29, 77]),\n",
              " array([[19, 22],\n",
              "        [50, 58]]),\n",
              " array([[1, 2],\n",
              "        [3, 5],\n",
              "        [5, 6],\n",
              "        [7, 8]]),\n",
              " array([[ 9, 11],\n",
              "        [10, 12]]),\n",
              " 'all the input arrays must have same number of dimensions, but the array at index 0 has 2 dimension(s) and the array at index 1 has 1 dimension(s)')"
            ]
          },
          "metadata": {},
          "execution_count": 22
        }
      ]
    },
    {
      "cell_type": "markdown",
      "source": [
        "Problem - 4: Matrix Operations:\n",
        "• For the following arrays:\n",
        "A = np.array([[3,4],[7,8]]) and B = np.array([[5,3],[2,1]]);\n",
        "Prove following with Numpy:\n",
        "1. Prove A.A−1 = I.\n",
        "2. Prove AB ̸= BA.\n",
        "3. Prove (AB)\n",
        "\n",
        "T = BTAT\n",
        ".\n",
        "\n",
        "• Solve the following system of Linear equation using Inverse Methods.\n",
        "\n",
        "2x − 3y + z = −1\n",
        "x − y + 2z = −3\n",
        "3x + y − z = 9\n",
        "\n",
        "{Hint: First use Numpy array to represent the equation in Matrix form. Then Solve for: AX = B}\n",
        "\n",
        "• Now: solve the above equation using np.linalg.inv function.{Explore more about ”linalg” func-\n",
        "tion of Numpy}"
      ],
      "metadata": {
        "id": "kNUleCKtRwA1"
      }
    },
    {
      "cell_type": "code",
      "source": [
        "#2330784\n",
        "#Pramdip Shrestha\n",
        "# Arrays A and B\n",
        "A = np.array([[3, 4], [7, 8]])\n",
        "B = np.array([[5, 3], [2, 1]])\n",
        "\n",
        "# Task 1: Prove A * A^(-1) = I (Identity Matrix)\n",
        "A_inv = np.linalg.inv(A)  # Inverse of A\n",
        "identity_matrix = np.dot(A, A_inv)  # A * A_inv\n",
        "\n",
        "# Task 2: Prove AB != BA\n",
        "AB = np.dot(A, B)\n",
        "BA = np.dot(B, A)\n",
        "\n",
        "# Task 3: Prove (AB)^T = B^T * A^T\n",
        "AB_T = np.transpose(AB)\n",
        "BT_AT = np.dot(np.transpose(B), np.transpose(A))\n",
        "\n",
        "# Solving the system of linear equations\n",
        "# 2x - 3y + z = -1\n",
        "# x - y + 2z = -3\n",
        "# 3x + y - z = 9\n",
        "# Matrix form: AX = B\n",
        "\n",
        "# A matrix represents the coefficients\n",
        "A_matrix = np.array([[2, -3, 1], [1, -1, 2], [3, 1, -1]])\n",
        "# B matrix represents the right-hand side\n",
        "B_matrix = np.array([-1, -3, 9])\n",
        "\n",
        "# Solving for X (x, y, z)\n",
        "X = np.linalg.solve(A_matrix, B_matrix)\n",
        "\n",
        "# Solve using np.linalg.inv\n",
        "X_inv_method = np.dot(np.linalg.inv(A_matrix), B_matrix)\n",
        "\n",
        "identity_matrix, AB, BA, AB_T, BT_AT, X, X_inv_method\n"
      ],
      "metadata": {
        "colab": {
          "base_uri": "https://localhost:8080/"
        },
        "id": "7RZb7oOcR1o1",
        "outputId": "85628653-3616-4421-90c5-2f4f3ec53548"
      },
      "execution_count": 44,
      "outputs": [
        {
          "output_type": "execute_result",
          "data": {
            "text/plain": [
              "(array([[1.00000000e+00, 0.00000000e+00],\n",
              "        [1.77635684e-15, 1.00000000e+00]]),\n",
              " array([[23, 13],\n",
              "        [51, 29]]),\n",
              " array([[36, 44],\n",
              "        [13, 16]]),\n",
              " array([[23, 51],\n",
              "        [13, 29]]),\n",
              " array([[23, 51],\n",
              "        [13, 29]]),\n",
              " array([ 2.,  1., -2.]),\n",
              " array([ 2.,  1., -2.]))"
            ]
          },
          "metadata": {},
          "execution_count": 44
        }
      ]
    }
  ]
}